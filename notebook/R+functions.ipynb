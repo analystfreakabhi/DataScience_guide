{
 "cells": [
  {
   "cell_type": "markdown",
   "metadata": {},
   "source": [
    "### Math Functions"
   ]
  },
  {
   "cell_type": "code",
   "execution_count": 2,
   "metadata": {
    "collapsed": true
   },
   "outputs": [
    {
     "data": {
      "text/html": [
       "2"
      ],
      "text/latex": [
       "2"
      ],
      "text/markdown": [
       "2"
      ],
      "text/plain": [
       "[1] 2"
      ]
     },
     "metadata": {},
     "output_type": "display_data"
    },
    {
     "data": {
      "text/html": [
       "<ol class=list-inline>\n",
       "\t<li>2</li>\n",
       "\t<li>4</li>\n",
       "\t<li>1</li>\n",
       "\t<li>2</li>\n",
       "</ol>\n"
      ],
      "text/latex": [
       "\\begin{enumerate*}\n",
       "\\item 2\n",
       "\\item 4\n",
       "\\item 1\n",
       "\\item 2\n",
       "\\end{enumerate*}\n"
      ],
      "text/markdown": [
       "1. 2\n",
       "2. 4\n",
       "3. 1\n",
       "4. 2\n",
       "\n",
       "\n"
      ],
      "text/plain": [
       "[1] 2 4 1 2"
      ]
     },
     "metadata": {},
     "output_type": "display_data"
    },
    {
     "data": {
      "text/html": [
       "2.34"
      ],
      "text/latex": [
       "2.34"
      ],
      "text/markdown": [
       "2.34"
      ],
      "text/plain": [
       "[1] 2.34"
      ]
     },
     "metadata": {},
     "output_type": "display_data"
    }
   ],
   "source": [
    "abs(-2)\n",
    "v <- c(-2,-4,1,2)\n",
    "abs(v)\n",
    "\n",
    "round(2.344565,2)"
   ]
  },
  {
   "cell_type": "code",
   "execution_count": 10,
   "metadata": {
    "collapsed": false
   },
   "outputs": [
    {
     "data": {
      "text/html": [
       "<time datetime=\"2017-06-02\">2017-06-02</time>"
      ],
      "text/latex": [
       "2017-06-02"
      ],
      "text/markdown": [
       "2017-06-02"
      ],
      "text/plain": [
       "[1] \"2017-06-02\""
      ]
     },
     "metadata": {},
     "output_type": "display_data"
    },
    {
     "data": {
      "text/html": [
       "'Date'"
      ],
      "text/latex": [
       "'Date'"
      ],
      "text/markdown": [
       "'Date'"
      ],
      "text/plain": [
       "[1] \"Date\""
      ]
     },
     "metadata": {},
     "output_type": "display_data"
    },
    {
     "data": {
      "text/html": [
       "<time datetime=\"1900-01-01\">1900-01-01</time>"
      ],
      "text/latex": [
       "1900-01-01"
      ],
      "text/markdown": [
       "1900-01-01"
      ],
      "text/plain": [
       "[1] \"1900-01-01\""
      ]
     },
     "metadata": {},
     "output_type": "display_data"
    },
    {
     "data": {
      "text/html": [
       "<time datetime=\"2019-11-03\">2019-11-03</time>"
      ],
      "text/latex": [
       "2019-11-03"
      ],
      "text/markdown": [
       "2019-11-03"
      ],
      "text/plain": [
       "[1] \"2019-11-03\""
      ]
     },
     "metadata": {},
     "output_type": "display_data"
    },
    {
     "data": {
      "text/plain": [
       "[1] \"2006-02-20 11:16:16 EST\""
      ]
     },
     "metadata": {},
     "output_type": "display_data"
    }
   ],
   "source": [
    "Sys.Date()\n",
    "class(Sys.Date())\n",
    "\n",
    "c1  <- \"1900-01-01\"\n",
    "as.Date(c1)\n",
    "\n",
    "## error\n",
    "as.Date(\"Nov-03-1990\", format = \"%b-%d-%y\")\n",
    "\n",
    "z <- strptime(\"20/2/06 11:16:16.683\", \"%d/%m/%y %H:%M:%OS\")\n",
    "z\n",
    "help(as.Date)\n",
    "help(strptime)"
   ]
  },
  {
   "cell_type": "code",
   "execution_count": null,
   "metadata": {
    "collapsed": false
   },
   "outputs": [],
   "source": []
  },
  {
   "cell_type": "code",
   "execution_count": null,
   "metadata": {
    "collapsed": true
   },
   "outputs": [],
   "source": []
  }
 ],
 "metadata": {
  "kernelspec": {
   "display_name": "R",
   "language": "R",
   "name": "ir"
  },
  "language_info": {
   "codemirror_mode": "r",
   "file_extension": ".r",
   "mimetype": "text/x-r-source",
   "name": "R",
   "pygments_lexer": "r",
   "version": "3.3.3"
  }
 },
 "nbformat": 4,
 "nbformat_minor": 2
}
