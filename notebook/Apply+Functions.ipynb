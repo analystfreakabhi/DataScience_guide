{
 "cells": [
  {
   "cell_type": "markdown",
   "metadata": {},
   "source": [
    "### lapply / sapply"
   ]
  },
  {
   "cell_type": "code",
   "execution_count": null,
   "metadata": {
    "collapsed": true
   },
   "outputs": [],
   "source": []
  },
  {
   "cell_type": "code",
   "execution_count": 5,
   "metadata": {
    "collapsed": true
   },
   "outputs": [
    {
     "name": "stdout",
     "output_type": "stream",
     "text": [
      "[[1]]\n",
      "[1] 13\n",
      "\n",
      "[[2]]\n",
      "[1] 99\n",
      "\n",
      "[[3]]\n",
      "[1] 6\n",
      "\n",
      "[[4]]\n",
      "[1] 95\n",
      "\n",
      "[[5]]\n",
      "[1] 86\n",
      "\n"
     ]
    },
    {
     "data": {
      "text/html": [
       "'list'"
      ],
      "text/latex": [
       "'list'"
      ],
      "text/markdown": [
       "'list'"
      ],
      "text/plain": [
       "[1] \"list\""
      ]
     },
     "metadata": {},
     "output_type": "display_data"
    },
    {
     "name": "stdout",
     "output_type": "stream",
     "text": [
      "[1] 17 75 76 92 63\n"
     ]
    },
    {
     "data": {
      "text/html": [
       "'integer'"
      ],
      "text/latex": [
       "'integer'"
      ],
      "text/markdown": [
       "'integer'"
      ],
      "text/plain": [
       "[1] \"integer\""
      ]
     },
     "metadata": {},
     "output_type": "display_data"
    }
   ],
   "source": [
    "# APPLY\n",
    "\n",
    "v <- 1:5\n",
    "addrand <- function(x){\n",
    "    ran <- sample(1:100,1)\n",
    "    return (x+ran)\n",
    "}\n",
    "\n",
    "result <- lapply(v,addrand) ## return list\n",
    "print(result)\n",
    "class(result)\n",
    "\n",
    "result <- sapply(v,addrand) ## return vector\n",
    "print(result)\n",
    "class(result)\n",
    "\n"
   ]
  },
  {
   "cell_type": "code",
   "execution_count": 7,
   "metadata": {
    "collapsed": true
   },
   "outputs": [
    {
     "name": "stdout",
     "output_type": "stream",
     "text": [
      "[1] 1 2 3 4 5\n",
      "[1]  2  4  6  8 10\n"
     ]
    }
   ],
   "source": [
    "times2 <- function(num){\n",
    "    return(num * 2)\n",
    "}\n",
    "\n",
    "v <- 1:5\n",
    "print(v)\n",
    "result <- sapply(v,times2)\n",
    "print(result)\n",
    "\n",
    "help(sapply)"
   ]
  },
  {
   "cell_type": "code",
   "execution_count": 9,
   "metadata": {
    "collapsed": false
   },
   "outputs": [
    {
     "name": "stdout",
     "output_type": "stream",
     "text": [
      "[1]  2  4  6  8 10\n"
     ]
    }
   ],
   "source": [
    "result <- sapply(v,function(num){num*2})\n",
    "print(result)"
   ]
  },
  {
   "cell_type": "code",
   "execution_count": 10,
   "metadata": {
    "collapsed": false
   },
   "outputs": [
    {
     "name": "stdout",
     "output_type": "stream",
     "text": [
      "[1] 101 102 103 104 105\n"
     ]
    }
   ],
   "source": [
    "add_choice <- function(num, choice){\n",
    "    return (num + choice)\n",
    "}\n",
    "\n",
    "print(sapply(v,add_choice,choice = 100))"
   ]
  },
  {
   "cell_type": "code",
   "execution_count": null,
   "metadata": {
    "collapsed": true
   },
   "outputs": [],
   "source": []
  }
 ],
 "metadata": {
  "kernelspec": {
   "display_name": "R",
   "language": "R",
   "name": "ir"
  },
  "language_info": {
   "codemirror_mode": "r",
   "file_extension": ".r",
   "mimetype": "text/x-r-source",
   "name": "R",
   "pygments_lexer": "r",
   "version": "3.3.3"
  }
 },
 "nbformat": 4,
 "nbformat_minor": 2
}
